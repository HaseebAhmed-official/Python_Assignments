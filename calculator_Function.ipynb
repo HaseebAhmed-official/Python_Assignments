{
  "cells": [
    {
      "cell_type": "markdown",
      "metadata": {
        "id": "oy6MwOVy9zKO"
      },
      "source": [
        "# **Addition**"
      ]
    },
    {
      "cell_type": "code",
      "execution_count": 5,
      "metadata": {
        "id": "YzpOxaenlvHV"
      },
      "outputs": [],
      "source": [
        "def sum(a:float,b:float) -> float:\n",
        "    return a+b"
      ]
    },
    {
      "cell_type": "markdown",
      "metadata": {
        "id": "qB1UYNLD-BiT"
      },
      "source": [
        "# **Subtraction**"
      ]
    },
    {
      "cell_type": "code",
      "execution_count": 6,
      "metadata": {
        "id": "6sdtzNKB-Ikp"
      },
      "outputs": [],
      "source": [
        "def subtract(a:float,b:float) -> float:\n",
        "    return a-b"
      ]
    },
    {
      "cell_type": "markdown",
      "metadata": {
        "id": "wRzMA6kc-Rzz"
      },
      "source": [
        "# **Multiplication**"
      ]
    },
    {
      "cell_type": "code",
      "execution_count": 7,
      "metadata": {
        "id": "3pfhJaXO-W_q"
      },
      "outputs": [],
      "source": [
        "def multiply(a:float,b:float) -> float:\n",
        "    return a*b"
      ]
    },
    {
      "cell_type": "markdown",
      "metadata": {
        "id": "Guayy0sQ-ifZ"
      },
      "source": [
        "# **Division**"
      ]
    },
    {
      "cell_type": "code",
      "execution_count": 8,
      "metadata": {
        "id": "XiB1lu3L-lsR"
      },
      "outputs": [],
      "source": [
        "def divide(a:float,b:float) -> float:\n",
        "    return a/b\n",
        "    if b == 0:\n",
        "        raise ValueError(\"Cannot divide by zero\")"
      ]
    },
    {
      "cell_type": "markdown",
      "metadata": {
        "id": "Nihp05RHFHe1"
      },
      "source": [
        "# **Get user choice**"
      ]
    },
    {
      "cell_type": "code",
      "execution_count": 10,
      "metadata": {
        "id": "Cr3mTCOGFGnr"
      },
      "outputs": [],
      "source": [
        "def user_choice():\n",
        "  print(\"choose your favourite operation:\" )\n",
        "  print(\"1. Addition\")\n",
        "  print(\"2. Subtraction\")\n",
        "  print(\"3. Multiplication\")\n",
        "  print(\"4. Division\")\n",
        "  choice=input(\"enter your choice(1/2/3/4):\")\n",
        "  return choice"
      ]
    },
    {
      "cell_type": "markdown",
      "metadata": {
        "id": "Q3Pxu0bCGAfs"
      },
      "source": [
        "# **Get numbers from user**"
      ]
    },
    {
      "cell_type": "code",
      "execution_count": 11,
      "metadata": {
        "id": "9UKJhCzqGOk9"
      },
      "outputs": [],
      "source": [
        "def user_numbers():\n",
        "  a=float(input(\"enter first number:\"))\n",
        "  b=float(input(\"enter second number:\"))\n",
        "  return a,b"
      ]
    },
    {
      "cell_type": "markdown",
      "metadata": {
        "id": "ii-5tTdHGzxM"
      },
      "source": [
        "# ***Main calculator function***"
      ]
    },
    {
      "cell_type": "code",
      "execution_count": 12,
      "metadata": {
        "colab": {
          "base_uri": "https://localhost:8080/"
        },
        "id": "ENaktYJ-GzP2",
        "outputId": "c823c852-abe7-4455-c9f7-e26a8e90a7d3"
      },
      "outputs": [
        {
          "name": "stdout",
          "output_type": "stream",
          "text": [
            "choose your favourite operation:\n",
            "1. Addition\n",
            "2. Subtraction\n",
            "3. Multiplication\n",
            "4. Division\n",
            "The product of your two favorite numbers 3.0 and 9.0 is: 27.0\n"
          ]
        }
      ],
      "source": [
        "def calculator():\n",
        "  while True:\n",
        "        choice = user_choice()\n",
        "        if choice in ('1', '2', '3', '4'):\n",
        "           a, b = user_numbers()\n",
        "           if choice == '1':\n",
        "            print(f\"The sum of your two favorite numbers {a} and {b} is:\", sum(a, b))\n",
        "           elif choice == '2':\n",
        "            print(f\"The difference of your two favorite numbers {a} and {b} is:\", subtract(a, b))\n",
        "           elif choice == '3':\n",
        "            print(f\"The product of your two favorite numbers {a} and {b} is:\", multiply(a, b))\n",
        "           elif choice == '4':\n",
        "            print(f\"The quotient of your two favorite numbers {a} and {b} is:\", divide(a, b))\n",
        "        else:\n",
        "            print(\"Invalid choice. Please try again.\")\n",
        "\n",
        "        next_calculation = input(\"Do you want to perform another calculation? (yes/no): \")\n",
        "        if next_calculation.lower() != 'yes':\n",
        "            break\n",
        "            if __name__ == \"__main__\":\n",
        "                calculator()\n",
        "\n",
        "calculator()"
      ]
    }
  ],
  "metadata": {
    "colab": {
      "provenance": []
    },
    "kernelspec": {
      "display_name": "Python 3",
      "name": "python3"
    },
    "language_info": {
      "codemirror_mode": {
        "name": "ipython",
        "version": 3
      },
      "file_extension": ".py",
      "mimetype": "text/x-python",
      "name": "python",
      "nbconvert_exporter": "python",
      "pygments_lexer": "ipython3",
      "version": "3.12.4"
    }
  },
  "nbformat": 4,
  "nbformat_minor": 0
}
