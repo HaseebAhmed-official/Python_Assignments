{
  "cells": [
    {
      "cell_type": "markdown",
      "metadata": {
        "id": "si4QX6cgBcR6"
      },
      "source": [
        "# **Python Programming Assignment 08 (B):** *High-Low Game*"
      ]
    },
    {
      "cell_type": "code",
      "execution_count": null,
      "metadata": {
        "colab": {
          "base_uri": "https://localhost:8080/"
        },
        "id": "PLjXKpv8Dbza",
        "outputId": "6d8dd457-cf95-41cc-bf34-b2d3ed61084e"
      },
      "outputs": [],
      "source": [
        "import random as r  # Importing random module for generating random numbers\n",
        "\n",
        "rounds = 5  # Number of rounds for the game\n",
        "SCORE = 0  # Initial score is set to 0\n",
        "\n",
        "# Welcoming the player to the game 🎉\n",
        "print(\"🎮 Welcome to the High-Low Game! 🎮\")\n",
        "print(\"--------------------------------\")\n",
        "\n",
        "# Loop for the number of rounds\n",
        "for i in range(1, rounds + 1):\n",
        "    print(f\"🔁 Round {i} 🔁\")\n",
        "\n",
        "    # Asking for player's number and validating it\n",
        "    while True:\n",
        "        player_input = input(\"🔢 Your number is: \").strip()\n",
        "        try:\n",
        "            # Converting input to float if it contains a decimal, otherwise to an integer\n",
        "            player_num = float(player_input) if '.' in player_input else int(player_input)\n",
        "            break  # Valid input, proceed to next step\n",
        "        except ValueError:\n",
        "            print(\"❌ Invalid input. Please enter a valid integer or float.\")\n",
        "\n",
        "    # Computer generates a random number between 1 and 100\n",
        "    computer_num = r.randint(1, 100)\n",
        "\n",
        "    # Asking the player if they think their number is higher or lower than the computer's\n",
        "    while True:\n",
        "        guess_num = input(\"🤔 Do you think your number is higher or lower than the computer's? (higher/lower): \").strip().lower()\n",
        "        print(f\"📥 You entered: {guess_num}\")\n",
        "\n",
        "        # Checking player's guess and comparing the numbers\n",
        "        if guess_num == \"higher\" and player_num > computer_num:\n",
        "            print(f\"✅ You were right! 🎉 The computer's number was {computer_num}\")\n",
        "            SCORE += 1  # Increase score for correct guess\n",
        "            break\n",
        "        elif guess_num == \"lower\" and player_num < computer_num:\n",
        "            print(f\"✅ You were right! 🎉 The computer's number was {computer_num}\")\n",
        "            SCORE += 1  # Increase score for correct guess\n",
        "            break\n",
        "        elif guess_num == \"higher\" or guess_num == \"lower\":\n",
        "            print(f\"❌ Aww, that's incorrect. The computer's number was {computer_num}\")\n",
        "            break  # Proceed even if the guess was wrong\n",
        "        else:\n",
        "            print(\"⚠️ Invalid input. Please enter 'higher' or 'lower'.\")\n",
        "            # Loop repeats until valid input is given\n",
        "\n",
        "    # Showing the current score after each round 📊\n",
        "    print(f\"🏅 Your score is now: {SCORE}\")\n",
        "\n",
        "    # If it's the last round, the game ends without asking to continue\n",
        "    if i == rounds:\n",
        "        print(\"🛑 The game has ended. 🛑\")\n",
        "        break\n",
        "\n",
        "    # Asking the player if they want to continue playing after each round (except the last one)\n",
        "    continue_game = input(\"➡️ Do you want to play the next round? (yes/no): \").strip().lower()\n",
        "\n",
        "    # If the player says \"no\", exit the game\n",
        "    if continue_game == \"no\":\n",
        "        break\n",
        "\n",
        "# Final feedback based on the player's performance\n",
        "print(\"✨ Final Results ✨\")\n",
        "if SCORE == rounds:\n",
        "    print(\"🌟 Amazing! You got a perfect score! You're a pro at this game! 🌟\")\n",
        "elif SCORE > rounds / 2:\n",
        "    print(f\"👍 Great job! You scored {SCORE} out of {rounds}. You're above average! 👍\")\n",
        "elif SCORE > 0:\n",
        "    print(f\"👌 You scored {SCORE} out of {rounds}. Not bad, but there's room for improvement! 👌\")\n",
        "else:\n",
        "    print(\"🙁 You didn't score any points. Better luck next time! 🙁\")\n",
        "\n"
      ]
    }
  ],
  "metadata": {
    "colab": {
      "provenance": []
    },
    "kernelspec": {
      "display_name": "Python 3",
      "name": "python3"
    },
    "language_info": {
      "name": "python"
    }
  },
  "nbformat": 4,
  "nbformat_minor": 0
}
